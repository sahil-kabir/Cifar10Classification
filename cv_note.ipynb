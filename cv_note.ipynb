{
 "cells": [
  {
   "cell_type": "code",
   "execution_count": 1,
   "id": "e733b37d",
   "metadata": {},
   "outputs": [],
   "source": [
    "from keras.datasets import cifar10\n",
    "from tensorflow.keras.utils import to_categorical\n",
    "from keras import models\n",
    "from keras import layers\n",
    "from tensorflow.keras.callbacks import History \n",
    "import matplotlib.pyplot as plt\n",
    "\n",
    "class Model:\n",
    "    def __init__(self):\n",
    "        # reshape tensors, reduce magnitude of elements in tensors\n",
    "        self.X_train = []\n",
    "        self.y_train = []\n",
    "        self.X_test = []\n",
    "        self.y_test = []\n",
    "        self.data = History()\n",
    "\n",
    "        network = models.Sequential() # construction of neural network\n",
    "        network.add(layers.Conv2D(128, (3,3), activation = 'relu', input_shape = (32, 32, 3))) # input layer, convolution for feature extraction\n",
    "        network.add(layers.MaxPool2D((2,2))) # max pool to filter/enhance feature extractions\n",
    "        network.add(layers.Conv2D(128, (3,3), activation = 'relu'))\n",
    "        network.add(layers.MaxPool2D((2,2)))\n",
    "        network.add(layers.Conv2D(128, (3,3), activation = 'relu'))\n",
    "        network.add(layers.MaxPool2D((2,2)))\n",
    "        network.add(layers.Flatten()) # flatten for tensors to be moved into dense layers\n",
    "        network.add(layers.Dense(64, activation = 'relu'))\n",
    "        network.add(layers.Dense(64, activation = 'relu'))\n",
    "        network.add(layers.Dense(10, activation = 'softmax')) # softmax activation for multiclass single-label classification\n",
    "\n",
    "        self.network = network\n",
    "\n",
    "    def fit(self, X_train, y_train, X_test, y_test, train_reshape, test_reshape):\n",
    "        self.X_train = X_train.reshape(train_reshape) \n",
    "        self.X_train = self.X_train.astype('float32')/255\n",
    "        self.X_test = X_test.reshape(test_reshape)\n",
    "        self.X_test = self.X_test.astype('float32')/255\n",
    "        \n",
    "        \n",
    "        self.y_train = to_categorical(y_train) \n",
    "        self.y_test = to_categorical(y_test)\n",
    "\n",
    "        # compile the network \n",
    "        self.network.compile(optimizer = 'rmsprop', # a standard optimizor\n",
    "                        loss = 'categorical_crossentropy',  # loss function for multiclass single-label classification\n",
    "                        metrics = ['accuracy'])\n",
    "        # Fit the data through the network, \n",
    "        self.data = self.network.fit(self.X_train, self.y_train, epochs = 8, batch_size = 75, validation_data = (self.X_test, self.y_test))\n",
    "\n",
    "    def display_fitting(self):\n",
    "        # construct pyplot to compare training accuracy and validation accuracy\n",
    "        plt.plot(range(1, len(self.data.history['accuracy']) + 1), self.data.history['accuracy'], label = 'Training Accuracy')\n",
    "        plt.plot(range(1, len(self.data.history['val_accuracy']) + 1), self.data.history['val_accuracy'], label = 'Validation Accuracy')\n",
    "        plt.title('Training and Validation Accuracy')\n",
    "        plt.xlabel('Epochs')\n",
    "        plt.ylabel('Accuracy')\n",
    "        plt.legend()\n",
    "        plt.show()"
   ]
  },
  {
   "cell_type": "code",
   "execution_count": 2,
   "id": "3be2d8a8",
   "metadata": {},
   "outputs": [
    {
     "name": "stdout",
     "output_type": "stream",
     "text": [
      "Epoch 1/8\n",
      "667/667 [==============================] - 270s 399ms/step - loss: 1.7027 - accuracy: 0.3776 - val_loss: 1.4640 - val_accuracy: 0.4798\n",
      "Epoch 2/8\n",
      "667/667 [==============================] - 262s 392ms/step - loss: 1.2327 - accuracy: 0.5658 - val_loss: 1.1989 - val_accuracy: 0.5750\n",
      "Epoch 3/8\n",
      "667/667 [==============================] - 273s 410ms/step - loss: 1.0204 - accuracy: 0.6466 - val_loss: 1.0003 - val_accuracy: 0.6519\n",
      "Epoch 4/8\n",
      "667/667 [==============================] - 267s 401ms/step - loss: 0.8782 - accuracy: 0.6967 - val_loss: 1.0628 - val_accuracy: 0.6342\n",
      "Epoch 5/8\n",
      "667/667 [==============================] - 273s 410ms/step - loss: 0.7761 - accuracy: 0.7309 - val_loss: 1.0949 - val_accuracy: 0.6392\n",
      "Epoch 6/8\n",
      "667/667 [==============================] - 272s 408ms/step - loss: 0.6896 - accuracy: 0.7596 - val_loss: 0.9828 - val_accuracy: 0.6714\n",
      "Epoch 7/8\n",
      "667/667 [==============================] - 265s 398ms/step - loss: 0.6161 - accuracy: 0.7860 - val_loss: 0.9381 - val_accuracy: 0.7013\n",
      "Epoch 8/8\n",
      "667/667 [==============================] - 266s 399ms/step - loss: 0.5499 - accuracy: 0.8111 - val_loss: 0.9064 - val_accuracy: 0.7134\n"
     ]
    },
    {
     "data": {
      "image/png": "[encoded data removed]",
      "text/plain": [
       "<Figure size 432x288 with 1 Axes>"
      ]
     },
     "metadata": {
      "needs_background": "light"
     },
     "output_type": "display_data"
    }
   ],
   "source": [
    "(trainImages, trainLabels), (testImages, testLabels) = cifar10.load_data()\n",
    "model = Model()\n",
    "model.fit(trainImages, trainLabels, testImages, testLabels, (50000, 32, 32, 3), (10000, 32, 32, 3))\n",
    "model.display_fitting()"
   ]
  }
 ],
 "metadata": {
  "kernelspec": {
   "display_name": "Python 3 (ipykernel)",
   "language": "python",
   "name": "python3"
  },
  "language_info": {
   "codemirror_mode": {
    "name": "ipython",
    "version": 3
   },
   "file_extension": ".py",
   "mimetype": "text/x-python",
   "name": "python",
   "nbconvert_exporter": "python",
   "pygments_lexer": "ipython3",
   "version": "3.7.0"
  }
 },
 "nbformat": 4,
 "nbformat_minor": 5
}
